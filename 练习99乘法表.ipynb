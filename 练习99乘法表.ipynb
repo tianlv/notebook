{
 "cells": [
  {
   "cell_type": "code",
   "execution_count": 7,
   "metadata": {},
   "outputs": [
    {
     "name": "stdout",
     "output_type": "stream",
     "text": [
      "1*1 \n",
      "1*2 2*2 \n",
      "1*3 2*3 3*3 \n",
      "1*4 2*4 3*4 4*4 \n",
      "1*5 2*5 3*5 4*5 5*5 \n",
      "1*6 2*6 3*6 4*6 5*6 6*6 \n",
      "1*7 2*7 3*7 4*7 5*7 6*7 7*7 \n",
      "1*8 2*8 3*8 4*8 5*8 6*8 7*8 8*8 \n",
      "1*9 2*9 3*9 4*9 5*9 6*9 7*9 8*9 9*9 \n"
     ]
    }
   ],
   "source": [
    "for row in range(1,10):\n",
    "    for col in range(1,row+1):\n",
    "        print(\"{0}*{1}\".format(col,row),end=\" \")\n",
    "    print(\"\")"
   ]
  },
  {
   "cell_type": "code",
   "execution_count": null,
   "metadata": {},
   "outputs": [],
   "source": []
  }
 ],
 "metadata": {
  "kernelspec": {
   "display_name": "Python 3",
   "language": "python",
   "name": "python3"
  },
  "language_info": {
   "codemirror_mode": {
    "name": "ipython",
    "version": 3
   },
   "file_extension": ".py",
   "mimetype": "text/x-python",
   "name": "python",
   "nbconvert_exporter": "python",
   "pygments_lexer": "ipython3",
   "version": "3.6.6"
  }
 },
 "nbformat": 4,
 "nbformat_minor": 2
}
